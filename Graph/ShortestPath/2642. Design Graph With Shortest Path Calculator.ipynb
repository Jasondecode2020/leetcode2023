{
 "cells": [
  {
   "attachments": {},
   "cell_type": "markdown",
   "id": "50a92a8b",
   "metadata": {},
   "source": [
    "## 2642. Design Graph With Shortest Path Calculator"
   ]
  },
  {
   "cell_type": "code",
   "execution_count": 1,
   "id": "a514111b",
   "metadata": {},
   "outputs": [],
   "source": [
    "class Graph:\n",
    "\n",
    "    def __init__(self, n: int, edges):\n",
    "        self.dist = [[inf] * n for i in range(n)]\n",
    "        self.n = n\n",
    "        for u, v, c in edges:\n",
    "            self.dist[u][v] = c\n",
    "        for i in range(n):\n",
    "            self.dist[i][i] = 0\n",
    "        for k in range(n):\n",
    "            for i in range(n):\n",
    "                for j in range(n):\n",
    "                    self.dist[i][j] = min(self.dist[i][j], self.dist[i][k] + self.dist[k][j])\n",
    "    def addEdge(self, edge) -> None:\n",
    "        u, v, c = edge\n",
    "        if self.dist[u][v] <= c:\n",
    "            return\n",
    "        self.dist[u][v] = c\n",
    "        # Partial Floyd-Warshall for updating involved edges only\n",
    "        for k in [u, v]:\n",
    "            for i in range(self.n):\n",
    "                for j in range(self.n):\n",
    "                    self.dist[i][j] = min(self.dist[i][j], self.dist[i][k] + self.dist[k][j])\n",
    "\n",
    "    def shortestPath(self, node1: int, node2: int) -> int:\n",
    "        return self.dist[node1][node2] if self.dist[node1][node2] != inf else -1"
   ]
  }
 ],
 "metadata": {
  "kernelspec": {
   "display_name": "Python 3",
   "language": "python",
   "name": "python3"
  },
  "language_info": {
   "codemirror_mode": {
    "name": "ipython",
    "version": 3
   },
   "file_extension": ".py",
   "mimetype": "text/x-python",
   "name": "python",
   "nbconvert_exporter": "python",
   "pygments_lexer": "ipython3",
   "version": "3.9.1"
  }
 },
 "nbformat": 4,
 "nbformat_minor": 5
}
