{
 "cells": [
  {
   "attachments": {},
   "cell_type": "markdown",
   "id": "50a92a8b",
   "metadata": {},
   "source": [
    "## 1334. Find the City With the Smallest Number of Neighbors at a Threshold Distance"
   ]
  },
  {
   "cell_type": "code",
   "execution_count": 1,
   "id": "a514111b",
   "metadata": {},
   "outputs": [],
   "source": [
    "class Solution:\n",
    "    def findTheCity(self, n: int, edges, distanceThreshold: int) -> int:\n",
    "        dist = [[inf] * n for i in range(n)]\n",
    "        for u, v, c in edges:\n",
    "            dist[u][v] = dist[v][u] = c\n",
    "        for i in range(n):\n",
    "            dist[i][i] = 0\n",
    "        for k in range(n):\n",
    "            for i in range(n):\n",
    "                for j in range(n):\n",
    "                    dist[i][j] = min(dist[i][j], dist[i][k] + dist[k][j])\n",
    "\n",
    "        res, ans = 0, inf\n",
    "        for i in range(n):\n",
    "            num = 0\n",
    "            for j in range(n):\n",
    "                if dist[i][j] <= distanceThreshold:\n",
    "                    num += 1\n",
    "            if num <= ans:\n",
    "                ans = num\n",
    "                res = i\n",
    "        return res"
   ]
  },
  {
   "cell_type": "code",
   "execution_count": null,
   "id": "939c4d43",
   "metadata": {},
   "outputs": [],
   "source": []
  }
 ],
 "metadata": {
  "kernelspec": {
   "display_name": "Python 3",
   "language": "python",
   "name": "python3"
  },
  "language_info": {
   "codemirror_mode": {
    "name": "ipython",
    "version": 3
   },
   "file_extension": ".py",
   "mimetype": "text/x-python",
   "name": "python",
   "nbconvert_exporter": "python",
   "pygments_lexer": "ipython3",
   "version": "3.9.1"
  }
 },
 "nbformat": 4,
 "nbformat_minor": 5
}
