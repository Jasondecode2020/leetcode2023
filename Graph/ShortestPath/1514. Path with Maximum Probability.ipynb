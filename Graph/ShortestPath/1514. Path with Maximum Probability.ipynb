{
 "cells": [
  {
   "attachments": {},
   "cell_type": "markdown",
   "id": "50a92a8b",
   "metadata": {},
   "source": [
    "## 1514. Path with Maximum Probability"
   ]
  },
  {
   "cell_type": "code",
   "execution_count": 1,
   "id": "a514111b",
   "metadata": {},
   "outputs": [],
   "source": [
    "class Solution:\n",
    "    def maxProbability(self, n: int, edges, succProb, start: int, end: int) -> float:\n",
    "        g = defaultdict(list)\n",
    "        for i, lst in enumerate(edges):\n",
    "            g[lst[0]].append((lst[1], succProb[i]))\n",
    "            g[lst[1]].append((lst[0], succProb[i]))\n",
    "        \n",
    "        q = deque([(start, 1)])\n",
    "        dist = [0] * n\n",
    "        dist[start] = 1\n",
    "        while q:\n",
    "            node, p = q.popleft()\n",
    "            for adj, adj_p in g[node]:\n",
    "                if dist[node] * adj_p > dist[adj]:\n",
    "                    q.append((adj, adj_p))\n",
    "                    dist[adj] = adj_p * dist[node]\n",
    "        return dist[end]"
   ]
  },
  {
   "cell_type": "code",
   "execution_count": null,
   "id": "6fa9d177",
   "metadata": {},
   "outputs": [],
   "source": []
  },
  {
   "attachments": {},
   "cell_type": "markdown",
   "id": "d27588cb",
   "metadata": {},
   "source": [
    "- dijkstra's algorithm can also use queue"
   ]
  },
  {
   "cell_type": "markdown",
   "id": "9ba4d87a",
   "metadata": {},
   "source": []
  }
 ],
 "metadata": {
  "kernelspec": {
   "display_name": "Python 3",
   "language": "python",
   "name": "python3"
  },
  "language_info": {
   "codemirror_mode": {
    "name": "ipython",
    "version": 3
   },
   "file_extension": ".py",
   "mimetype": "text/x-python",
   "name": "python",
   "nbconvert_exporter": "python",
   "pygments_lexer": "ipython3",
   "version": "3.9.1"
  }
 },
 "nbformat": 4,
 "nbformat_minor": 5
}
