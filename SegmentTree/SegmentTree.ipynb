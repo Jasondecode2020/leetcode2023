{
 "cells": [
  {
   "attachments": {},
   "cell_type": "markdown",
   "id": "50a92a8b",
   "metadata": {},
   "source": [
    "## Segment Tree"
   ]
  },
  {
   "attachments": {},
   "cell_type": "markdown",
   "id": "adef821a",
   "metadata": {},
   "source": [
    "### https://www.youtube.com/watch?v=2FShdqn-Oz8"
   ]
  },
  {
   "attachments": {},
   "cell_type": "markdown",
   "id": "5e585a22",
   "metadata": {},
   "source": [
    "- range query"
   ]
  },
  {
   "cell_type": "code",
   "execution_count": null,
   "id": "c5945a57",
   "metadata": {},
   "outputs": [],
   "source": [
    "def f(node, node_low, node_high, query_low, query_high, tree):\n",
    "    if node_low >= query_low and node_high <= query_high:\n",
    "        return tree[node]\n",
    "    if node_low > query_high or node_high < query_low:\n",
    "        return 0\n",
    "    last_in_left = (node_low + node_high) // 2 \n",
    "    return f(2 * node, node_low, last_in_left, query_low, query_high, tree) + \\\n",
    "            f(2 * node + 1, last_in_left + 1, node_high, query_low, query_high, tree)"
   ]
  },
  {
   "attachments": {},
   "cell_type": "markdown",
   "id": "ec27dc14",
   "metadata": {},
   "source": [
    "- build a tree"
   ]
  },
  {
   "cell_type": "code",
   "execution_count": 21,
   "id": "e4dd7c8a",
   "metadata": {},
   "outputs": [
    {
     "name": "stdout",
     "output_type": "stream",
     "text": [
      "[0, 21, 10, 11, 3, 7, 11, 0, 1, 2, 3, 4, 5, 6, 0, 0]\n"
     ]
    }
   ],
   "source": [
    "a = [1, 2, 3, 4, 5, 6, 0, 0] # len of arr: 6, padding 2 zeros\n",
    "n = 8\n",
    "tree = [0] * n * 2\n",
    "for i in range(n):\n",
    "    tree[n + i] = a[i] \n",
    "for i in range(n - 1, 0, -1):\n",
    "    tree[i] = tree[2 * i] + tree[2 * i + 1]\n",
    "print(tree)"
   ]
  },
  {
   "cell_type": "code",
   "execution_count": 22,
   "id": "076b58a3",
   "metadata": {},
   "outputs": [],
   "source": [
    "def f(node, node_low, node_high, query_low, query_high, tree):\n",
    "    if node_low >= query_low and node_high <= query_high:\n",
    "        return tree[node]\n",
    "    if node_low > query_high or node_high < query_low:\n",
    "        return 0\n",
    "    last_in_left = (node_low + node_high) // 2 \n",
    "    return f(2 * node, node_low, last_in_left, query_low, query_high, tree) + \\\n",
    "            f(2 * node + 1, last_in_left + 1, node_high, query_low, query_high, tree)"
   ]
  },
  {
   "cell_type": "code",
   "execution_count": 27,
   "id": "75125e72",
   "metadata": {},
   "outputs": [
    {
     "data": {
      "text/plain": [
       "21"
      ]
     },
     "execution_count": 27,
     "metadata": {},
     "output_type": "execute_result"
    }
   ],
   "source": [
    "f(1, 0, 7, 0, 5, tree)"
   ]
  },
  {
   "cell_type": "code",
   "execution_count": null,
   "id": "68004fb0",
   "metadata": {},
   "outputs": [],
   "source": []
  }
 ],
 "metadata": {
  "kernelspec": {
   "display_name": "Python 3",
   "language": "python",
   "name": "python3"
  },
  "language_info": {
   "codemirror_mode": {
    "name": "ipython",
    "version": 3
   },
   "file_extension": ".py",
   "mimetype": "text/x-python",
   "name": "python",
   "nbconvert_exporter": "python",
   "pygments_lexer": "ipython3",
   "version": "3.9.1"
  }
 },
 "nbformat": 4,
 "nbformat_minor": 5
}
