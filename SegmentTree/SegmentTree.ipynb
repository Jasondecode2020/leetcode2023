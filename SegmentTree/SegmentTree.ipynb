{
 "cells": [
  {
   "attachments": {},
   "cell_type": "markdown",
   "id": "50a92a8b",
   "metadata": {},
   "source": [
    "## Segment Tree"
   ]
  },
  {
   "attachments": {},
   "cell_type": "markdown",
   "id": "adef821a",
   "metadata": {},
   "source": [
    "### https://www.youtube.com/watch?v=2FShdqn-Oz8"
   ]
  },
  {
   "attachments": {},
   "cell_type": "markdown",
   "id": "5e585a22",
   "metadata": {},
   "source": [
    "- range query"
   ]
  },
  {
   "cell_type": "code",
   "execution_count": null,
   "id": "c5945a57",
   "metadata": {},
   "outputs": [],
   "source": [
    "def f(node, node_low, node_high, query_low, query_high, tree):\n",
    "    if node_low >= query_low and node_high <= query_high:\n",
    "        return tree[node]\n",
    "    if node_low > query_high or node_high < query_low:\n",
    "        return 0\n",
    "    last_in_left = (node_low + node_high) // 2 \n",
    "    return f(2 * node, node_low, last_in_left, query_low, query_high, tree) + \\\n",
    "            f(2 * node + 1, last_in_left + 1, node_high, query_low, query_high, tree)"
   ]
  },
  {
   "attachments": {},
   "cell_type": "markdown",
   "id": "ec27dc14",
   "metadata": {},
   "source": [
    "- build a tree"
   ]
  },
  {
   "cell_type": "code",
   "execution_count": 2,
   "id": "e4dd7c8a",
   "metadata": {},
   "outputs": [
    {
     "name": "stdout",
     "output_type": "stream",
     "text": [
      "[0, 21, 10, 11, 3, 7, 11, 0, 1, 2, 3, 4, 5, 6, 0, 0]\n"
     ]
    }
   ],
   "source": [
    "a = [1, 2, 3, 4, 5, 6, 0, 0] # len of arr: 6, padding 2 zeros\n",
    "n = 8\n",
    "tree = [0] * n * 2\n",
    "for i in range(n):\n",
    "    tree[n + i] = a[i] \n",
    "for i in range(n - 1, 0, -1):\n",
    "    tree[i] = tree[2 * i] + tree[2 * i + 1]\n",
    "print(tree)"
   ]
  },
  {
   "cell_type": "code",
   "execution_count": 3,
   "id": "076b58a3",
   "metadata": {},
   "outputs": [],
   "source": [
    "def f(node, node_low, node_high, query_low, query_high, tree):\n",
    "    if node_low >= query_low and node_high <= query_high:\n",
    "        return tree[node]\n",
    "    if node_low > query_high or node_high < query_low:\n",
    "        return 0\n",
    "    last_in_left = (node_low + node_high) // 2 \n",
    "    return f(2 * node, node_low, last_in_left, query_low, query_high, tree) + \\\n",
    "            f(2 * node + 1, last_in_left + 1, node_high, query_low, query_high, tree)"
   ]
  },
  {
   "cell_type": "code",
   "execution_count": 4,
   "id": "75125e72",
   "metadata": {},
   "outputs": [
    {
     "data": {
      "text/plain": [
       "21"
      ]
     },
     "execution_count": 4,
     "metadata": {},
     "output_type": "execute_result"
    }
   ],
   "source": [
    "f(1, 0, 7, 0, 5, tree)"
   ]
  },
  {
   "attachments": {},
   "cell_type": "markdown",
   "id": "8ca2ea23",
   "metadata": {},
   "source": [
    "- update a tree"
   ]
  },
  {
   "cell_type": "code",
   "execution_count": 14,
   "id": "68004fb0",
   "metadata": {},
   "outputs": [
    {
     "name": "stdout",
     "output_type": "stream",
     "text": [
      "[0, 22, 11, 11, 4, 7, 11, 2, 2, 2, 3, 4, 5, 6, 0, 0]\n"
     ]
    }
   ],
   "source": [
    "def update(i, v):\n",
    "    tree[n + i] = v\n",
    "    j = (n + 1) // 2\n",
    "    while j > 0:\n",
    "        tree[j] = tree[2 * j] + tree[2 * j + 1]\n",
    "        j //= 2\n",
    "update(0, 2)\n",
    "print(tree)"
   ]
  },
  {
   "cell_type": "code",
   "execution_count": 16,
   "id": "81ee6a52",
   "metadata": {},
   "outputs": [
    {
     "data": {
      "text/plain": [
       "4"
      ]
     },
     "execution_count": 16,
     "metadata": {},
     "output_type": "execute_result"
    }
   ],
   "source": [
    "f(1, 0, 7, 0, 1, tree)"
   ]
  },
  {
   "attachments": {},
   "cell_type": "markdown",
   "id": "f9684858",
   "metadata": {},
   "source": [
    "- zero padding"
   ]
  },
  {
   "attachments": {},
   "cell_type": "markdown",
   "id": "f438c302",
   "metadata": {},
   "source": []
  },
  {
   "cell_type": "code",
   "execution_count": 21,
   "id": "928ef670",
   "metadata": {},
   "outputs": [
    {
     "name": "stdout",
     "output_type": "stream",
     "text": [
      "[1, 2, 3, 4, 5, 0, 0, 0]\n"
     ]
    }
   ],
   "source": [
    "import math\n",
    "\n",
    "def build_segment_tree(arr):\n",
    "    n = len(arr)\n",
    "    tree_size = 2 ** math.ceil(math.log2(n))\n",
    "    arr += [0] * (tree_size - n)\n",
    "    \n",
    "    return arr\n",
    "\n",
    "# Example usage\n",
    "input_array = [1, 2, 3, 4, 5]\n",
    "segment_tree_array = build_segment_tree(input_array)\n",
    "print(segment_tree_array)"
   ]
  },
  {
   "cell_type": "code",
   "execution_count": 27,
   "id": "12a6f14e",
   "metadata": {},
   "outputs": [],
   "source": [
    "def maximize_bitwise_or(nums, k):\n",
    "    max_value = max(nums)  # Get the maximum value in the array\n",
    "\n",
    "    # Count the number of bits required to represent the maximum value\n",
    "    num_bits = max(len(bin(max_value)) - 2, 1)\n",
    "\n",
    "    # Iterate k times to try to set as many significant bits as possible\n",
    "    for i in range(k):\n",
    "        if max_value == 0:\n",
    "            break\n",
    "\n",
    "        # Find the leftmost unset bit in max_value\n",
    "        unset_bit_pos = num_bits\n",
    "        while max_value & (1 << (unset_bit_pos - 1)):\n",
    "            unset_bit_pos -= 1\n",
    "\n",
    "        # Set the leftmost unset bit\n",
    "        max_value |= (1 << (unset_bit_pos - 1))\n",
    "\n",
    "    return max_value"
   ]
  },
  {
   "cell_type": "code",
   "execution_count": 28,
   "id": "831b81f9",
   "metadata": {},
   "outputs": [
    {
     "data": {
      "text/plain": [
       "14"
      ]
     },
     "execution_count": 28,
     "metadata": {},
     "output_type": "execute_result"
    }
   ],
   "source": [
    "nums = [12,9]\n",
    "k = 1\n",
    "maximize_bitwise_or(nums, k)"
   ]
  },
  {
   "cell_type": "code",
   "execution_count": 29,
   "id": "95314793",
   "metadata": {},
   "outputs": [
    {
     "data": {
      "text/plain": [
       "14"
      ]
     },
     "execution_count": 29,
     "metadata": {},
     "output_type": "execute_result"
    }
   ],
   "source": [
    "nums = [8,1,2]\n",
    "k = 2\n",
    "maximize_bitwise_or(nums, k)"
   ]
  },
  {
   "cell_type": "code",
   "execution_count": 2,
   "id": "60873f25",
   "metadata": {},
   "outputs": [
    {
     "data": {
      "text/plain": [
       "[2, 3]"
      ]
     },
     "execution_count": 2,
     "metadata": {},
     "output_type": "execute_result"
    }
   ],
   "source": [
    "d = {1: 2, 2: 3}\n",
    "list(d.values())"
   ]
  },
  {
   "cell_type": "code",
   "execution_count": 3,
   "id": "62b20fc1",
   "metadata": {},
   "outputs": [
    {
     "data": {
      "text/plain": [
       "['', 'a']"
      ]
     },
     "execution_count": 3,
     "metadata": {},
     "output_type": "execute_result"
    }
   ],
   "source": [
    "f = \"/a\"\n",
    "f.split('/')"
   ]
  },
  {
   "cell_type": "code",
   "execution_count": null,
   "id": "d8d1dff5",
   "metadata": {},
   "outputs": [],
   "source": []
  }
 ],
 "metadata": {
  "kernelspec": {
   "display_name": "Python 3",
   "language": "python",
   "name": "python3"
  },
  "language_info": {
   "codemirror_mode": {
    "name": "ipython",
    "version": 3
   },
   "file_extension": ".py",
   "mimetype": "text/x-python",
   "name": "python",
   "nbconvert_exporter": "python",
   "pygments_lexer": "ipython3",
   "version": "3.9.1"
  }
 },
 "nbformat": 4,
 "nbformat_minor": 5
}
