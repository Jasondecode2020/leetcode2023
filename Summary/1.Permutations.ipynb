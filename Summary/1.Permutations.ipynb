{
 "cells": [
  {
   "attachments": {},
   "cell_type": "markdown",
   "id": "50a92a8b",
   "metadata": {},
   "source": [
    "## Permutations"
   ]
  },
  {
   "attachments": {},
   "cell_type": "markdown",
   "id": "5e585a22",
   "metadata": {},
   "source": [
    "### 46. Permutations"
   ]
  },
  {
   "attachments": {},
   "cell_type": "markdown",
   "id": "4652e6fa",
   "metadata": {},
   "source": [
    "Given an array nums of distinct integers, return all the possible permutations. You can return the answer in any order.\n",
    "\n",
    "Example 1:\n",
    "\n",
    "Input: nums = [1,2,3]\n",
    "Output: [[1,2,3],[1,3,2],[2,1,3],[2,3,1],[3,1,2],[3,2,1]]"
   ]
  },
  {
   "cell_type": "code",
   "execution_count": 2,
   "id": "c5945a57",
   "metadata": {},
   "outputs": [],
   "source": [
    "class Solution:\n",
    "    def permute(self, nums):\n",
    "        def backtrack(nums, ans, res):\n",
    "            if not nums:\n",
    "                res.append(ans[::])\n",
    "            for i in range(len(nums)):\n",
    "                ans.append(nums[i])\n",
    "                backtrack(nums[:i] + nums[i+1:], ans, res)\n",
    "                ans.pop()\n",
    "            return res\n",
    "        return backtrack(nums, [], [])"
   ]
  },
  {
   "attachments": {},
   "cell_type": "markdown",
   "id": "ec27dc14",
   "metadata": {},
   "source": [
    "### 47. Permutations II"
   ]
  },
  {
   "attachments": {},
   "cell_type": "markdown",
   "id": "d6e482a7",
   "metadata": {},
   "source": [
    "Given a collection of numbers, nums, that might contain duplicates, return all possible unique permutations in any order.\n",
    "\n",
    "Example 1:\n",
    "\n",
    "Input: nums = [1,1,2]\n",
    "Output:\n",
    "[[1,1,2],\n",
    " [1,2,1],\n",
    " [2,1,1]]"
   ]
  },
  {
   "attachments": {},
   "cell_type": "markdown",
   "id": "515cd357",
   "metadata": {},
   "source": []
  },
  {
   "attachments": {},
   "cell_type": "markdown",
   "id": "ef50f07a",
   "metadata": {},
   "source": [
    "- Same as 46"
   ]
  },
  {
   "cell_type": "code",
   "execution_count": 2,
   "id": "e4dd7c8a",
   "metadata": {},
   "outputs": [
    {
     "name": "stdout",
     "output_type": "stream",
     "text": [
      "[0, 21, 10, 11, 3, 7, 11, 0, 1, 2, 3, 4, 5, 6, 0, 0]\n"
     ]
    }
   ],
   "source": [
    "class Solution:\n",
    "    def permuteUnique(self, nums):\n",
    "        def backtrack(nums, ans, s):\n",
    "            if not nums:\n",
    "                s.add(tuple(ans[::]))\n",
    "            for i in range(len(nums)):\n",
    "                ans.append(nums[i])\n",
    "                backtrack(nums[:i] + nums[i+1:], ans, s)\n",
    "                ans.pop()\n",
    "            return s\n",
    "        return backtrack(nums, [], set())"
   ]
  },
  {
   "attachments": {},
   "cell_type": "markdown",
   "id": "cd5ae44b",
   "metadata": {},
   "source": [
    "- prune a tree"
   ]
  },
  {
   "cell_type": "code",
   "execution_count": 3,
   "id": "076b58a3",
   "metadata": {},
   "outputs": [],
   "source": [
    "class Solution:\n",
    "    def permuteUnique(self, nums):\n",
    "        def backtrack(nums, ans, res):\n",
    "            if not nums:\n",
    "                res.append(ans[::])\n",
    "            s = set()\n",
    "            for i in range(len(nums)):\n",
    "                if nums[i] in s: continue\n",
    "                s.add(nums[i])\n",
    "                ans.append(nums[i])\n",
    "                backtrack(nums[:i] + nums[i+1:], ans, res)\n",
    "                ans.pop()\n",
    "            return res\n",
    "        return backtrack(nums, [], [])"
   ]
  },
  {
   "attachments": {},
   "cell_type": "markdown",
   "id": "c535c7a8",
   "metadata": {},
   "source": [
    "### 剑指 Offer 38. 字符串的排列"
   ]
  },
  {
   "attachments": {},
   "cell_type": "markdown",
   "id": "bdf1c622",
   "metadata": {},
   "source": [
    "输入一个字符串，打印出该字符串中字符的所有排列。\n",
    "\n",
    "你可以以任意顺序返回这个字符串数组，但里面不能有重复元素。\n",
    "\n",
    "示例:\n",
    "\n",
    "输入：s = \"abc\"\n",
    "输出：[\"abc\",\"acb\",\"bac\",\"bca\",\"cab\",\"cba\"]\n",
    " \n",
    "限制：\n",
    "\n",
    "1 <= s 的长度 <= 8"
   ]
  },
  {
   "attachments": {},
   "cell_type": "markdown",
   "id": "7f1e7aea",
   "metadata": {},
   "source": [
    "- same as 47"
   ]
  },
  {
   "cell_type": "code",
   "execution_count": null,
   "id": "22d0e650",
   "metadata": {},
   "outputs": [],
   "source": [
    "class Solution:\n",
    "    def permutation(self, s: str) -> List[str]:\n",
    "        def backtrack(letters, ans, res):\n",
    "            if not letters:\n",
    "                res.append(''.join(ans[::]))\n",
    "            s = set()\n",
    "            for i in range(len(letters)):\n",
    "                if letters[i] in s: continue\n",
    "                s.add(letters[i])\n",
    "                ans.append(letters[i])\n",
    "                backtrack(letters[:i] + letters[i+1:], ans, res)\n",
    "                ans.pop()\n",
    "            return res\n",
    "        return backtrack(s, [], [])"
   ]
  },
  {
   "attachments": {},
   "cell_type": "markdown",
   "id": "71c4b4fa",
   "metadata": {},
   "source": [
    "### 60. Permutation Sequence"
   ]
  },
  {
   "cell_type": "code",
   "execution_count": 5,
   "id": "c60928ed",
   "metadata": {},
   "outputs": [],
   "source": [
    "class Solution:\n",
    "    def getPermutation(self, n: int, k: int) -> str:\n",
    "        res, nums = '', list(range(1, n + 1))\n",
    "        for i in range(1, n + 1):\n",
    "            index = 0\n",
    "            cnt = factorial(n - i)\n",
    "            while k > cnt:\n",
    "                index += 1\n",
    "                k -= cnt\n",
    "            res += str(nums[index])\n",
    "            nums.pop(index)\n",
    "        return res"
   ]
  },
  {
   "attachments": {},
   "cell_type": "markdown",
   "id": "1dc8d575",
   "metadata": {},
   "source": [
    "### 996. Number of Squareful Arrays\n"
   ]
  },
  {
   "cell_type": "code",
   "execution_count": 7,
   "id": "e875e89e",
   "metadata": {},
   "outputs": [],
   "source": [
    "class Solution:\n",
    "    def numSquarefulPerms(self, nums) -> int:\n",
    "        def isPerfect(n):\n",
    "            return pow(int(sqrt(n)), 2) == n\n",
    "        self.res = 0\n",
    "        def backtrack(nums, ans):\n",
    "            if not nums:\n",
    "                self.res += 1\n",
    "            s = set()\n",
    "            for i in range(len(nums)):\n",
    "                if nums[i] in s: continue\n",
    "                s.add(nums[i])\n",
    "                if not ans:\n",
    "                    ans.append(nums[i])\n",
    "                    backtrack(nums[:i] + nums[i+1:], ans)\n",
    "                    ans.pop()\n",
    "                elif isPerfect(ans[-1] + nums[i]):\n",
    "                        ans.append(nums[i])\n",
    "                        backtrack(nums[:i] + nums[i+1:], ans)\n",
    "                        ans.pop()\n",
    "        backtrack(nums, [])\n",
    "        return self.res"
   ]
  },
  {
   "cell_type": "code",
   "execution_count": null,
   "id": "c23c4594",
   "metadata": {},
   "outputs": [],
   "source": []
  }
 ],
 "metadata": {
  "kernelspec": {
   "display_name": "Python 3",
   "language": "python",
   "name": "python3"
  },
  "language_info": {
   "codemirror_mode": {
    "name": "ipython",
    "version": 3
   },
   "file_extension": ".py",
   "mimetype": "text/x-python",
   "name": "python",
   "nbconvert_exporter": "python",
   "pygments_lexer": "ipython3",
   "version": "3.9.1"
  }
 },
 "nbformat": 4,
 "nbformat_minor": 5
}
